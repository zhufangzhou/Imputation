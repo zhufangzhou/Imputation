{
 "cells": [
  {
   "cell_type": "code",
   "execution_count": 3,
   "metadata": {
    "collapsed": false
   },
   "outputs": [
    {
     "name": "stderr",
     "output_type": "stream",
     "text": [
      "Using Theano backend.\n",
      "Using gpu device 0: GeForce GTX 780 (CNMeM is disabled, cuDNN not available)\n"
     ]
    }
   ],
   "source": [
    "import pandas as pd\n",
    "import numpy as np\n",
    "import sys\n",
    "import gc\n",
    "from sklearn.ensemble import RandomForestClassifier\n",
    "\n",
    "from keras.models import Sequential, model_from_json\n",
    "from keras.layers.core import Dense, Activation\n",
    "from keras.optimizers import Adagrad\n",
    "\n",
    "import utils\n",
    "from grid import RoadGrid"
   ]
  },
  {
   "cell_type": "code",
   "execution_count": 1,
   "metadata": {
    "collapsed": false
   },
   "outputs": [],
   "source": [
    "def encode_rncci(rncid, ci):\n",
    "    return rncid*100+ci\n",
    "\n",
    "def decode_rncci(rncci):\n",
    "    rncid = rncci / 100\n",
    "    ci = rncci % 100\n",
    "    return rncid, ci\n",
    "\n",
    "def get_rncci_dict(tr_data):\n",
    "    # Get all RNC_CI\n",
    "    rncci_set = set()\n",
    "    for i in xrange(1,7):\n",
    "        rncci_set |= set(encode_rncci(tr_data['RNCID_%d'%i].values.astype(int), tr_data['CellID_%d'%i].values.astype(int)))\n",
    "    rncci_set.remove(encode_rncci(-999,-999))\n",
    "    rncci_dict = dict(zip(list(rncci_set), range(len(rncci_set))))\n",
    "    \n",
    "    eng_para = utils.get_4g_engpara()\n",
    "    \n",
    "    eng_para = utils.get_4g_engpara()\n",
    "    rncci = encode_rncci(eng_para.LAC.values, eng_para.CI.values)\n",
    "    lnglat = eng_para[[u'经度', u'纬度']].values\n",
    "    rncci_lnglat_dict = dict(zip(rncci, lnglat))\n",
    "    rncci_lnglat = [tuple(rncci_lnglat_dict[x]) for x in list(rncci_set)]\n",
    "    \n",
    "    return rncci_dict, rncci_lnglat, list(rncci_set)\n",
    "\n",
    "def get_train(tr_data, rncci_dict):\n",
    "    tr_label = tr_data[['Longitude', 'Latitude']].values\n",
    "\n",
    "    # Load Engineering Parameter\n",
    "    eng_para = utils.get_4g_engpara()\n",
    "    print '数据集大小: %d' % len(tr_data)\n",
    "\n",
    "    # Grid Data\n",
    "    tr_time, tr_feature, tr_label_ = utils.make_rf_dataset(tr_data, eng_para)\n",
    "    rg = RoadGrid(tr_label_.values, 10)\n",
    "    tr_label_ = np.array(rg.transform(tr_label_.values, False))\n",
    "    print '格子数量: %d' % rg.n_grid\n",
    "\n",
    "    # Grid Statistics\n",
    "    dense_feature = [1] * len(tr_feature)\n",
    "    sparse_feature = [1] * len(tr_feature)\n",
    "    for i in xrange(rg.n_grid):\n",
    "        sub_feature = tr_feature[tr_label_ == i]\n",
    "        bs_count = np.zeros(len(rncci_dict))\n",
    "        bs_rscp = np.zeros(len(rncci_dict))\n",
    "        bs_ecno = np.zeros(len(rncci_dict))\n",
    "        for idx, row in sub_feature.iterrows():\n",
    "            sp_rscp = np.zeros(len(rncci_dict))\n",
    "            sp_ecno = np.zeros(len(rncci_dict))\n",
    "            for j in xrange(1, 7):\n",
    "                rncid = int(row['RNCID_%d'%j])\n",
    "                ci = int(row['CellID_%d'%j])\n",
    "                rscp = float(row['RSCP_%d'%j])\n",
    "                ecno = float(row['EcNo_%d'%j])\n",
    "                if rncid != -999 and ci != -999 and rscp != -999 and ecno != -999 and rscp != 0 and ecno != 0:\n",
    "                    dict_idx = rncci_dict[encode_rncci(rncid, ci)]\n",
    "                    bs_count[dict_idx] += 1\n",
    "                    bs_rscp[dict_idx] += (rscp+140) # add constant scalar to be a positive number\n",
    "                    bs_ecno[dict_idx] += (ecno+30)\n",
    "                    sp_rscp[dict_idx] = (rscp+140)\n",
    "                    sp_ecno[dict_idx] = (ecno+30)\n",
    "            sparse_feature[idx-1] = list(np.hstack((sp_rscp, sp_ecno)))\n",
    "        radio_map = np.hstack((bs_rscp / bs_count, bs_ecno / bs_count))\n",
    "        nan_mask = np.array([np.isnan(x) for x in radio_map])\n",
    "        nan_idx = np.where(nan_mask == True)[0]\n",
    "        radio_map[nan_idx] = 0\n",
    "        for idx, row in sub_feature.iterrows():\n",
    "            dense_feature[idx-1] = list(radio_map)\n",
    "\n",
    "    dense_feature = np.asarray(dense_feature)\n",
    "    sparse_feature = np.asarray(sparse_feature)\n",
    "    return sparse_feature, dense_feature\n",
    "\n",
    "def build_network(n_dim, n_hidden):\n",
    "    model = Sequential()\n",
    "    model.add(Dense(output_dim=n_hidden, input_dim=n_dim))\n",
    "    model.add(Activation(\"relu\"))\n",
    "    model.add(Dense(output_dim=n_dim))\n",
    "\n",
    "    return model\n",
    "\n",
    "def to_dense_feature(tr_feature, rncci_lnglat, rncci_list):\n",
    "    n_rncci = tr_feature.shape[1] / 2\n",
    "    tr_rssi = tr_feature[:, :n_rncci] - tr_feature[:, n_rncci:]\n",
    "    idx = np.argsort(tr_rssi,axis=1)[:,::-1]\n",
    "    full_feature = []\n",
    "    for i in xrange(len(tr_feature)):\n",
    "        p_feature = []\n",
    "        for j in xrange(7):\n",
    "            rscp_ = tr_feature[i, idx[i,j]]\n",
    "            ecno_ = tr_feature[i, idx[i,j]+n_rncci]\n",
    "            bs_lon_, bs_lat_ = rncci_lnglat[idx[i,j]]\n",
    "            rncid_, ci_ = decode_rncci(rncci_list[idx[i,j]])\n",
    "            if j==6 or rscp_ == 0.:\n",
    "                break\n",
    "            p_feature += [rscp_, ecno_, bs_lon_, bs_lat_, rncid_, ci_]\n",
    "        p_feature += [0]*(6-j)*6 + [j]\n",
    "        full_feature.append(p_feature)\n",
    "    full_feature = np.array(full_feature)\n",
    "    return full_feature"
   ]
  },
  {
   "cell_type": "code",
   "execution_count": 4,
   "metadata": {
    "collapsed": false
   },
   "outputs": [
    {
     "name": "stdout",
     "output_type": "stream",
     "text": [
      "数据集大小: 56949\n",
      "格子数量: 7259\n",
      "数据集大小: 4675\n",
      "格子数量: 1549\n"
     ]
    }
   ],
   "source": [
    "tr_names = ['forward0', 'forward1', 'forward2', 'forward3','forwardbackward4', 'forwardbackward5', 'bu_1', 'bu_2']\n",
    "te_names = ['backward2']\n",
    "\n",
    "tr_data = utils.get_4g_data(tr_names)\n",
    "te_data = utils.get_4g_data(te_names)\n",
    "\n",
    "rncci_dict, rncci_lnglat, rncci_list = get_rncci_dict(pd.concat([tr_data, te_data]))\n",
    "\n",
    "tr_sparse_feature, tr_radiomap = get_train(tr_data, rncci_dict)\n",
    "te_sparse_feature, te_radiomap = get_train(te_data, rncci_dict)"
   ]
  },
  {
   "cell_type": "code",
   "execution_count": null,
   "metadata": {
    "collapsed": false
   },
   "outputs": [],
   "source": [
    "tr_dense_feature = to_dense_feature(tr_sparse_feature, rncci_lnglat, rncci_list)\n",
    "te_dense_feature = to_dense_feature(te_sparse_feature, rncci_lnglat, rncci_list)"
   ]
  },
  {
   "cell_type": "code",
   "execution_count": null,
   "metadata": {
    "collapsed": false
   },
   "outputs": [],
   "source": [
    "tr_dense_feature1 = to_dense_feature(tr_sparse_feature, rncci_lnglat, rncci_list)\n",
    "tr_dense_feature2 = to_dense_feature(tr_radiomap, rncci_lnglat, rncci_list)"
   ]
  },
  {
   "cell_type": "code",
   "execution_count": null,
   "metadata": {
    "collapsed": false
   },
   "outputs": [],
   "source": [
    "def normalize(data, is_train=True, mean_list = None, std_list = None):\n",
    "    n, m = data.shape\n",
    "    if is_train:\n",
    "        mean_list = []\n",
    "        std_list = []\n",
    "        for i in range(m):\n",
    "            mean_list.append(np.mean(data[:, i]))\n",
    "            std_list.append(np.std(data[:, i]))\n",
    "            data[:, i] = (data[:, i] - mean_list[i]) / std_list[i] if std_list[i] else 0\n",
    "        return data, mean_list, std_list\n",
    "    else:\n",
    "        for i in range(m):\n",
    "            data[:, i] = (data[:, i] - mean_list[i]) / std_list[i] if std_list[i] else 0\n",
    "        return data\n",
    "def denormalize(data, mean_list, std_list):\n",
    "    n, m = data.shape\n",
    "    for i in range(m):\n",
    "        data[:, i] = (data[:, i] * std_list[i]) + mean_list[i]\n",
    "    return data"
   ]
  },
  {
   "cell_type": "code",
   "execution_count": null,
   "metadata": {
    "collapsed": false
   },
   "outputs": [],
   "source": [
    "tr_sparse_feature_norm, tr_feature_mean, tr_feature_std = normalize(tr_sparse_feature, True)\n",
    "tr_radiomap_norm, tr_radiomap_mean, tr_radiomap_std = normalize(tr_radiomap, True)"
   ]
  },
  {
   "cell_type": "code",
   "execution_count": null,
   "metadata": {
    "collapsed": false
   },
   "outputs": [],
   "source": [
    "n_hidden = 600\n",
    "nb_epoch = 100\n",
    "batch_size = 64\n",
    "\n",
    "network = build_network(tr_sparse_feature.shape[1], n_hidden)\n",
    "network.compile(loss='mean_squared_error', optimizer=Adagrad())\n",
    "network.summary()\n",
    "network.fit(tr_sparse_feature, tr_radiomap, nb_epoch=nb_epoch, batch_size=batch_size, validation_split=0.05, verbose=1)"
   ]
  },
  {
   "cell_type": "code",
   "execution_count": null,
   "metadata": {
    "collapsed": false
   },
   "outputs": [],
   "source": [
    "json_str = network.to_json()\n",
    "f_json = open('S2D.json', 'w')\n",
    "f_json.write(json_str)\n",
    "f_json.close()\n",
    "network.save_weights('S2D.weight', overwrite=True)"
   ]
  },
  {
   "cell_type": "code",
   "execution_count": null,
   "metadata": {
    "collapsed": false
   },
   "outputs": [],
   "source": [
    "f_json = open('S2D.json')\n",
    "json_str = f_json.readline()\n",
    "network = model_from_json(json_str)\n",
    "network.load_weights('S2D.weight')"
   ]
  },
  {
   "cell_type": "code",
   "execution_count": null,
   "metadata": {
    "collapsed": false
   },
   "outputs": [],
   "source": [
    "tr_imputed =  to_dense_feature(network.predict(tr_sparse_feature), rncci_lnglat, rncci_list)\n",
    "te_imputed =  to_dense_feature(network.predict(te_sparse_feature), rncci_lnglat, rncci_list)"
   ]
  },
  {
   "cell_type": "code",
   "execution_count": null,
   "metadata": {
    "collapsed": false
   },
   "outputs": [],
   "source": [
    "tr_imputed = network.predict(tr_sparse_feature).astype(int)\n",
    "te_imputed = network.predict(te_sparse_feature).astype(int)"
   ]
  },
  {
   "cell_type": "code",
   "execution_count": null,
   "metadata": {
    "collapsed": false
   },
   "outputs": [],
   "source": [
    "tr_imputed = tr_imputed.astype(int)\n",
    "te_imputed = te_imputed.astype(int)"
   ]
  },
  {
   "cell_type": "code",
   "execution_count": null,
   "metadata": {
    "collapsed": false
   },
   "outputs": [],
   "source": [
    "print np.mean(tr_imputed[:, -1])\n",
    "print np.mean(te_imputed[:, -1])"
   ]
  },
  {
   "cell_type": "code",
   "execution_count": 9,
   "metadata": {
    "collapsed": false
   },
   "outputs": [
    {
     "name": "stdout",
     "output_type": "stream",
     "text": [
      "1841\n"
     ]
    }
   ],
   "source": [
    "tr_label = tr_data[['Longitude', 'Latitude']].values\n",
    "rg = RoadGrid(tr_label, 30)\n",
    "tr_label_ = np.array(rg.transform(tr_label, False))\n",
    "te_label = te_data[['Longitude', 'Latitude']].values\n",
    "print rg.n_grid"
   ]
  },
  {
   "cell_type": "code",
   "execution_count": 8,
   "metadata": {
    "collapsed": false
   },
   "outputs": [],
   "source": [
    "tr_imputed = tr_sparse_feature.astype(int)\n",
    "te_imputed = te_sparse_feature.astype(int)"
   ]
  },
  {
   "cell_type": "code",
   "execution_count": 10,
   "metadata": {
    "collapsed": false
   },
   "outputs": [],
   "source": [
    "est = RandomForestClassifier(\n",
    "        n_jobs=-1,\n",
    "        n_estimators = 50,\n",
    "        max_features='sqrt',\n",
    "        bootstrap=True,\n",
    "        criterion='gini'\n",
    "    ).fit(tr_imputed, tr_label_)"
   ]
  },
  {
   "cell_type": "code",
   "execution_count": 11,
   "metadata": {
    "collapsed": false
   },
   "outputs": [
    {
     "name": "stdout",
     "output_type": "stream",
     "text": [
      "56949\t4675\t1224\t51.08\t28.10\t43.40\t62.30\t108.70\n"
     ]
    }
   ],
   "source": [
    "te_pred = est.predict(te_imputed)\n",
    "te_pred = np.array([rg.grid_center[gid] for gid in te_pred])\n",
    "error_imputed = [utils.distance(pt1, pt2) for pt1, pt2 in zip(te_pred, te_label)]\n",
    "utils.report(error_imputed, '%d\\t%d\\t%d' % (len(tr_imputed), len(te_imputed), tr_imputed.shape[1]))"
   ]
  },
  {
   "cell_type": "code",
   "execution_count": null,
   "metadata": {
    "collapsed": false
   },
   "outputs": [],
   "source": [
    "est.feature_importance_"
   ]
  },
  {
   "cell_type": "code",
   "execution_count": null,
   "metadata": {
    "collapsed": false
   },
   "outputs": [],
   "source": [
    "eng_para = utils.get_4g_engpara()\n",
    "tr_time, tr_feature, tr_label_ = utils.make_rf_dataset(tr_data, eng_para)\n",
    "te_time, te_feature, te_label_ = utils.make_rf_dataset(te_data, eng_para)\n",
    "rg = RoadGrid(tr_label_.values, 30)"
   ]
  },
  {
   "cell_type": "code",
   "execution_count": null,
   "metadata": {
    "collapsed": false
   },
   "outputs": [],
   "source": [
    "tr_feature[['RSCP_%d'%i for i in xrange(1,7)]]"
   ]
  },
  {
   "cell_type": "code",
   "execution_count": null,
   "metadata": {
    "collapsed": false
   },
   "outputs": [],
   "source": [
    "tr_label = tr_data[['Longitude', 'Latitude']].values\n",
    "rg = RoadGrid(tr_label, 30)\n",
    "tr_label_ = np.array(rg.transform(tr_label, False))\n",
    "te_label = te_data[['Longitude', 'Latitude']].values\n",
    "print rg.n_grid"
   ]
  },
  {
   "cell_type": "code",
   "execution_count": null,
   "metadata": {
    "collapsed": false
   },
   "outputs": [],
   "source": [
    "est2 = RandomForestClassifier(\n",
    "        n_jobs=-1,\n",
    "        n_estimators = 50,\n",
    "        max_features='sqrt',\n",
    "        bootstrap=True,\n",
    "        criterion='gini'\n",
    ").fit(tr_feature, tr_label_)"
   ]
  },
  {
   "cell_type": "code",
   "execution_count": null,
   "metadata": {
    "collapsed": false
   },
   "outputs": [],
   "source": [
    "te_pred = est2.predict(te_feature)\n",
    "te_pred = np.array([rg.grid_center[gid] for gid in te_pred])\n",
    "error = [utils.distance(pt1, pt2) for pt1, pt2 in zip(te_pred, te_label)]\n",
    "utils.report(error, '%d\\t%d\\t%d' % (len(tr_feature), len(te_feature), tr_feature.shape[1]))"
   ]
  },
  {
   "cell_type": "code",
   "execution_count": null,
   "metadata": {
    "collapsed": false
   },
   "outputs": [],
   "source": [
    "error"
   ]
  },
  {
   "cell_type": "markdown",
   "metadata": {},
   "source": [
    "# 验证多基站精度"
   ]
  },
  {
   "cell_type": "code",
   "execution_count": null,
   "metadata": {
    "collapsed": false
   },
   "outputs": [],
   "source": [
    "# Load Training Data\n",
    "tr_dnames = ['forward0', 'forward1', 'forward2', 'forward3']\n",
    "tr_data = utils.get_4g_data(tr_dnames)\n",
    "tr_label = tr_data[['Longitude', 'Latitude']].values\n",
    "\n",
    "# Load Testing Data\n",
    "te_dnames = ['backward2']\n",
    "te_data = utils.get_4g_data(te_dnames)\n",
    "te_label = te_data[['Longitude', 'Latitude']].values\n",
    "\n",
    "# Load Engineering Parameter\n",
    "eng_para = utils.get_4g_engpara()\n",
    "\n",
    "print '训练集大小: %d' % len(tr_data)\n",
    "print '测试集大小: %d' % len(te_data)"
   ]
  },
  {
   "cell_type": "code",
   "execution_count": null,
   "metadata": {
    "collapsed": true
   },
   "outputs": [],
   "source": [
    "tr_time, tr_feature, tr_label_ = utils.make_rf_dataset(tr_data, eng_para)\n",
    "te_time, te_feature, te_label_ = utils.make_rf_dataset(te_data, eng_para)\n",
    "rg = RoadGrid(tr_label_.values, 10)\n",
    "#tr_label_ = np.array(rg.transform(tr_label_.values, False))"
   ]
  },
  {
   "cell_type": "code",
   "execution_count": null,
   "metadata": {
    "collapsed": true
   },
   "outputs": [],
   "source": [
    "def feature_names(n_bs):\n",
    "    return np.array([['RNCID_%d'%i, 'CellID_%d'%i, 'EcNo_%d'%i, 'RSCP_%d'%i, u'经度%d'%i, u'纬度%d'%i] for i in xrange(1, n_bs+1)]).ravel()"
   ]
  },
  {
   "cell_type": "code",
   "execution_count": null,
   "metadata": {
    "collapsed": true
   },
   "outputs": [],
   "source": [
    "def part_train(n_bs, tr_feature, tr_label, te_feature, te_label):\n",
    "    rg = RoadGrid(tr_label_.values, 30)\n",
    "    tr_label = np.array(rg.transform(tr_label, False))\n",
    "    \n",
    "    # cut feature\n",
    "    tr_feature = tr_feature[feature_names(n_bs)]\n",
    "    te_feature = te_feature[feature_names(n_bs)]\n",
    "    \n",
    "    # remove train null\n",
    "    for i in xrange(1, n_bs+1):\n",
    "        tr_mask = (tr_feature['RNCID_%d'%i].values != -999) & (tr_feature['CellID_%d'%i].values != -999)\n",
    "        tr_feature = tr_feature[tr_mask]\n",
    "        tr_label = tr_label[tr_mask]\n",
    "    \n",
    "    \n",
    "    #print '特征维度: %d' % tr_feature.shape[1]\n",
    "    est = RandomForestClassifier(\n",
    "        n_jobs=-1,\n",
    "        n_estimators = 100,\n",
    "        max_features='sqrt',\n",
    "        bootstrap=True,\n",
    "        criterion='gini'\n",
    "    ).fit(tr_feature.values, tr_label)\n",
    "    \n",
    "    te_pred = est.predict(te_feature.values)\n",
    "    te_pred = np.array([rg.grid_center[gid] for gid in te_pred])\n",
    "    \n",
    "    error = [utils.distance(pt1, pt2) for pt1, pt2 in zip(te_pred, te_label)]\n",
    "    \n",
    "    utils.report(error, '%d\\t%d\\t%d' % (len(tr_feature), len(te_feature), tr_feature.shape[1]))\n",
    "    #return error"
   ]
  },
  {
   "cell_type": "code",
   "execution_count": null,
   "metadata": {
    "collapsed": false
   },
   "outputs": [],
   "source": [
    "for i in xrange(1, 7):\n",
    "    part_train(i, tr_feature, tr_label, te_feature, te_label)"
   ]
  },
  {
   "cell_type": "code",
   "execution_count": null,
   "metadata": {
    "collapsed": false
   },
   "outputs": [],
   "source": [
    "part_train(2, tr_feature, tr_label, te_feature, te_label)"
   ]
  },
  {
   "cell_type": "code",
   "execution_count": null,
   "metadata": {
    "collapsed": false
   },
   "outputs": [],
   "source": [
    "tr_label"
   ]
  },
  {
   "cell_type": "code",
   "execution_count": null,
   "metadata": {
    "collapsed": false
   },
   "outputs": [],
   "source": [
    "te_feature.shape"
   ]
  },
  {
   "cell_type": "code",
   "execution_count": null,
   "metadata": {
    "collapsed": false
   },
   "outputs": [],
   "source": [
    "tr_feature['RNCID_1'].notnull().values"
   ]
  },
  {
   "cell_type": "code",
   "execution_count": null,
   "metadata": {
    "collapsed": true
   },
   "outputs": [],
   "source": [
    "t"
   ]
  }
 ],
 "metadata": {
  "kernelspec": {
   "display_name": "Python 2",
   "language": "python",
   "name": "python2"
  },
  "language_info": {
   "codemirror_mode": {
    "name": "ipython",
    "version": 2
   },
   "file_extension": ".py",
   "mimetype": "text/x-python",
   "name": "python",
   "nbconvert_exporter": "python",
   "pygments_lexer": "ipython2",
   "version": "2.7.11"
  }
 },
 "nbformat": 4,
 "nbformat_minor": 0
}
